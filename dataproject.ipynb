{
  "metadata": {
    "kernelspec": {
      "name": "python",
      "display_name": "Python (Pyodide)",
      "language": "python"
    },
    "language_info": {
      "codemirror_mode": {
        "name": "python",
        "version": 3
      },
      "file_extension": ".py",
      "mimetype": "text/x-python",
      "name": "python",
      "nbconvert_exporter": "python",
      "pygments_lexer": "ipython3",
      "version": "3.8"
    }
  },
  "nbformat_minor": 4,
  "nbformat": 4,
  "cells": [
    {
      "cell_type": "markdown",
      "source": "Data Science Tools and Practices",
      "metadata": {}
    },
    {
      "cell_type": "markdown",
      "source": "This notebook provides an overview of essential data science tools, languages, and libraries. It aims to familiarize you with the foundational concepts in data science and the tools that can be used to implement data-driven solutions.",
      "metadata": {}
    },
    {
      "cell_type": "markdown",
      "source": "Some of the most popular programming languages used in data science include:\n- Python\n- R\n- SQL\n- Java\n- Julia",
      "metadata": {}
    },
    {
      "cell_type": "markdown",
      "source": "Here are some of the key libraries that are commonly used in data science:\n- Pandas\n- NumPy\n- Matplotlib\n- Scikit-learn\n- TensorFlow",
      "metadata": {}
    },
    {
      "cell_type": "markdown",
      "source": "Data Science Tools\n| Tool           | \n|----------------|\n| Jupyter        |\n| RStudio        |\n| Apache Spark   | \n| Tableau        | \n| GitHub         |",
      "metadata": {}
    },
    {
      "cell_type": "code",
      "source": "#In this section, we will demonstrate simple arithmetic operations.\n#Code to multiply and add numbers\n(4+5-6)*2",
      "metadata": {
        "trusted": true
      },
      "outputs": [
        {
          "execution_count": 4,
          "output_type": "execute_result",
          "data": {
            "text/plain": "6"
          },
          "metadata": {}
        }
      ],
      "execution_count": 4
    },
    {
      "cell_type": "code",
      "source": "# Code to multiply and add numbers\na = 5\nb = 10\nmultiply_result = a * b\nadd_result = a + b\nmultiply_result, add_result",
      "metadata": {
        "trusted": true
      },
      "outputs": [
        {
          "execution_count": 5,
          "output_type": "execute_result",
          "data": {
            "text/plain": "(50, 15)"
          },
          "metadata": {}
        }
      ],
      "execution_count": 5
    },
    {
      "cell_type": "code",
      "source": "# Code to convert minutes to hours\ndef convert_minutes_to_hours(minutes):\n    return minutes / 60\n\nminutes = 120\nhours = convert_minutes_to_hours(minutes)\nhours\n",
      "metadata": {
        "trusted": true
      },
      "outputs": [
        {
          "execution_count": 6,
          "output_type": "execute_result",
          "data": {
            "text/plain": "2.0"
          },
          "metadata": {}
        }
      ],
      "execution_count": 6
    },
    {
      "cell_type": "markdown",
      "source": "Objectives\n- Understand the fundamental languages used in data science.\n- Familiarize with key libraries that support data science workflows.\n- Learn about different data science tools available for analysis and visualization.\n- Perform basic arithmetic operations using Python.\n- Convert time units programmatically.",
      "metadata": {}
    },
    {
      "cell_type": "markdown",
      "source": "Author\nThis notebook was created by J Chicoma.",
      "metadata": {}
    },
    {
      "cell_type": "code",
      "source": "",
      "metadata": {
        "trusted": true
      },
      "outputs": [],
      "execution_count": null
    }
  ]
}